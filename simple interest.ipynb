{
  "nbformat": 4,
  "nbformat_minor": 0,
  "metadata": {
    "colab": {
      "name": "Untitled7.ipynb",
      "provenance": [],
      "authorship_tag": "ABX9TyPZutjJ9tvynmRZPlDvHJ1A",
      "include_colab_link": true
    },
    "kernelspec": {
      "name": "python3",
      "display_name": "Python 3"
    },
    "language_info": {
      "name": "python"
    }
  },
  "cells": [
    {
      "cell_type": "markdown",
      "metadata": {
        "id": "view-in-github",
        "colab_type": "text"
      },
      "source": [
        "<a href=\"https://colab.research.google.com/github/Navaz959/python/blob/main/simple%20interest.ipynb\" target=\"_parent\"><img src=\"https://colab.research.google.com/assets/colab-badge.svg\" alt=\"Open In Colab\"/></a>"
      ]
    },
    {
      "cell_type": "code",
      "metadata": {
        "colab": {
          "base_uri": "https://localhost:8080/"
        },
        "id": "6pY8ZVxlrgQO",
        "outputId": "0b3c9e6f-50bf-4567-d0ee-a1d361a6961a"
      },
      "source": [
        "p=1000\n",
        "t=2\n",
        "r=1\n",
        "SI=(p*t*r)/100\n",
        "print(\"simple interest is : \",SI)"
      ],
      "execution_count": 1,
      "outputs": [
        {
          "output_type": "stream",
          "text": [
            "simple interest is :  20.0\n"
          ],
          "name": "stdout"
        }
      ]
    }
  ]
}