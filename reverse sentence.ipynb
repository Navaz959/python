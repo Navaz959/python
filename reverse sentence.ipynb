{
  "nbformat": 4,
  "nbformat_minor": 0,
  "metadata": {
    "colab": {
      "name": "Untitled9.ipynb",
      "provenance": [],
      "authorship_tag": "ABX9TyPGIosBdpDZE38r/7fP5Lbf",
      "include_colab_link": true
    },
    "kernelspec": {
      "name": "python3",
      "display_name": "Python 3"
    },
    "language_info": {
      "name": "python"
    }
  },
  "cells": [
    {
      "cell_type": "markdown",
      "metadata": {
        "id": "view-in-github",
        "colab_type": "text"
      },
      "source": [
        "<a href=\"https://colab.research.google.com/github/Navaz959/python/blob/main/reverse%20sentence.ipynb\" target=\"_parent\"><img src=\"https://colab.research.google.com/assets/colab-badge.svg\" alt=\"Open In Colab\"/></a>"
      ]
    },
    {
      "cell_type": "code",
      "metadata": {
        "colab": {
          "base_uri": "https://localhost:8080/"
        },
        "id": "ViG2jBsUtOMn",
        "outputId": "dfd19ad7-b1d7-4a21-a5c3-2f5d516c1a9f"
      },
      "source": [
        "a=(input(\"Enter Sentence : \"))\n",
        "b=a[::-1]\n",
        "print(\"Reverse Sentence\")\n",
        "print(\"\\n\",b)"
      ],
      "execution_count": 1,
      "outputs": [
        {
          "output_type": "stream",
          "text": [
            "Enter Sentence : sam\n",
            "Reverse Sentence\n",
            "\n",
            " mas\n"
          ],
          "name": "stdout"
        }
      ]
    }
  ]
}