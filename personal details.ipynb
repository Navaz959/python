{
  "nbformat": 4,
  "nbformat_minor": 0,
  "metadata": {
    "colab": {
      "name": "Untitled8.ipynb",
      "provenance": [],
      "authorship_tag": "ABX9TyPDIf0wc2XpGlcBYlAdugTa",
      "include_colab_link": true
    },
    "kernelspec": {
      "name": "python3",
      "display_name": "Python 3"
    },
    "language_info": {
      "name": "python"
    }
  },
  "cells": [
    {
      "cell_type": "markdown",
      "metadata": {
        "id": "view-in-github",
        "colab_type": "text"
      },
      "source": [
        "<a href=\"https://colab.research.google.com/github/Navaz959/python/blob/main/personal%20details.ipynb\" target=\"_parent\"><img src=\"https://colab.research.google.com/assets/colab-badge.svg\" alt=\"Open In Colab\"/></a>"
      ]
    },
    {
      "cell_type": "code",
      "metadata": {
        "colab": {
          "base_uri": "https://localhost:8080/"
        },
        "id": "gVYlVtcWsuE0",
        "outputId": "47df761c-4323-45cc-de89-8407e9b70e37"
      },
      "source": [
        "name=(input(\"Enter your Name : \"))\n",
        "age=(input(\"Enter your Age : \"))\n",
        "address=(input(\"Enter your Address : \"))\n",
        "salary=(input(\"Enter your Salary : \"))\n",
        "no=(input(\"Enter your Mobile Number\"))\n",
        "print(\"NAME :\",name)\n",
        "print(\"\\nAGE :\",age)\n",
        "print(\"\\nADDRESS :\",address)\n",
        "print(\"\\nSALARY :\",salary)\n",
        "print(\"\\nMOBILE NUMBER :\",no)"
      ],
      "execution_count": 1,
      "outputs": [
        {
          "output_type": "stream",
          "text": [
            "Enter your Name : sam\n",
            "Enter your Age : 17\n",
            "Enter your Address : surrampatti\n",
            "Enter your Salary : 1,20,000\n",
            "Enter your Mobile Number9344151675\n",
            "NAME : sam\n",
            "\n",
            "AGE : 17\n",
            "\n",
            "ADDRESS : surrampatti\n",
            "\n",
            "SALARY : 1,20,000\n",
            "\n",
            "MOBILE NUMBER : 9344151675\n"
          ],
          "name": "stdout"
        }
      ]
    }
  ]
}